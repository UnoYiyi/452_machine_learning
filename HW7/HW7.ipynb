{
  "cells": [
    {
      "metadata": {
        "_uuid": "8656955e16b88d57f19a3789c90069059ba884b9",
        "_cell_guid": "fbfaefbf-fda2-46ce-9e22-59b2c8d17fa2"
      },
      "cell_type": "markdown",
      "source": "# Data manipulation"
    },
    {
      "metadata": {
        "_uuid": "2101d86c2cf3f7a61475ea82aaa3c5dd068cf187",
        "_cell_guid": "5a824059-8c9b-4418-9a24-f833943d49cb"
      },
      "cell_type": "markdown",
      "source": "## Data loading"
    },
    {
      "metadata": {
        "collapsed": true,
        "_uuid": "3bc39967a41f9ec3989f971c49916b822b0806b7",
        "_cell_guid": "046298b9-7ef7-4e68-aef2-a1fe316be5a0",
        "trusted": true
      },
      "cell_type": "code",
      "source": "import pandas as pd\nimport numpy as np\nimport math\nimport re\nfrom scipy.sparse import csr_matrix\nimport matplotlib.pyplot as plt\nimport seaborn as sns\nfrom surprise import Reader, Dataset, SVD, evaluate\nsns.set_style(\"darkgrid\")",
      "execution_count": 4,
      "outputs": []
    },
    {
      "metadata": {
        "_uuid": "2a5476e11ee4539c129f2da35fccdacf2c296765",
        "_cell_guid": "0343ba37-0654-469c-98e5-812ecbaca528",
        "trusted": true
      },
      "cell_type": "code",
      "source": "# Skip date\ndf1 = pd.read_csv('../input/combined_data_1.txt', header = None, names = ['Cust_Id', 'Rating'], usecols = [0,1])\ndf2 = pd.read_csv('../input/combined_data_2.txt', header = None, names = ['Cust_Id', 'Rating'], usecols = [0,1])\ndf1['Rating'] = df1['Rating'].astype(float)\ndf2['Rating'] = df2['Rating'].astype(float)\n\nprint('Dataset 1 shape: {}'.format(df1.shape))\nprint('-Dataset examples-')\nprint(df1.iloc[::5000000, :])\n\nprint('Dataset 2 shape: {}'.format(df2.shape))\nprint('-Dataset examples-')\nprint(df2.iloc[::5000000, :])",
      "execution_count": 5,
      "outputs": [
        {
          "output_type": "stream",
          "text": "Dataset 1 shape: (24058263, 2)\n-Dataset examples-\n          Cust_Id  Rating\n0              1:     NaN\n5000000   2560324     4.0\n10000000  2271935     2.0\n15000000  1921803     2.0\n20000000  1933327     3.0\nDataset 2 shape: (26982302, 2)\n-Dataset examples-\n          Cust_Id  Rating\n0           4500:     NaN\n5000000    485565     2.0\n10000000  1155911     2.0\n15000000   121369     3.0\n20000000  1277779     3.0\n25000000   252632     5.0\n",
          "name": "stdout"
        }
      ]
    },
    {
      "metadata": {
        "_uuid": "4ea5a28d0108d2b272f1d30cf749080c4e94e66d",
        "_cell_guid": "ded88177-b586-48f2-bf3d-e1a892aca10e",
        "trusted": true
      },
      "cell_type": "code",
      "source": "df = df1\ndf = df1.append(df2)\n\ndf.index = np.arange(0,len(df))\nprint('Full dataset shape: {}'.format(df.shape))\nprint('-Dataset examples-')\nprint(df.iloc[::5000000, :])",
      "execution_count": 6,
      "outputs": [
        {
          "output_type": "stream",
          "text": "Full dataset shape: (51040565, 2)\n-Dataset examples-\n          Cust_Id  Rating\n0              1:     NaN\n5000000   2560324     4.0\n10000000  2271935     2.0\n15000000  1921803     2.0\n20000000  1933327     3.0\n25000000  1465002     3.0\n30000000   961023     4.0\n35000000  1372532     5.0\n40000000   854274     5.0\n45000000   116334     3.0\n50000000   768483     3.0\n",
          "name": "stdout"
        }
      ]
    },
    {
      "metadata": {
        "_uuid": "5bfa706c8f28f965b669dcfb285c9c32c1478bad",
        "_cell_guid": "78a857d7-1ab1-4d93-b750-9c14b4ba2c9a"
      },
      "cell_type": "markdown",
      "source": "## Data viewing"
    },
    {
      "metadata": {
        "_uuid": "b96e6aebfe14e3be18722b759654b732b8fa4d51",
        "_cell_guid": "48f3f057-706a-4667-b58e-79d70893cbb1"
      },
      "cell_type": "markdown",
      "source": "Let's give a first look on how the data spread:"
    },
    {
      "metadata": {
        "_uuid": "7e8780821d463af5bdcee9ec2662cf27d89745e4",
        "_cell_guid": "0d82d7df-6c77-44f2-a0bc-70ae0324329f",
        "trusted": true
      },
      "cell_type": "code",
      "source": "p = df.groupby('Rating')['Rating'].agg(['count'])\n\n# get movie count\nmovie_count = df.isnull().sum()[1]\n\n# get customer count\ncust_count = df['Cust_Id'].nunique() - movie_count\n\n# get rating count\nrating_count = df['Cust_Id'].count() - movie_count\n\nax = p.plot(kind = 'barh', legend = False, figsize = (15,10))\nplt.title('Total pool: {:,} Movies, {:,} customers, {:,} ratings given'.format(movie_count, cust_count, rating_count), fontsize=20)\nplt.axis('off')\n\nfor i in range(1,6):\n    ax.text(p.iloc[i-1][0]/4, i-1, 'Rating {}: {:.0f}%'.format(i, p.iloc[i-1][0]*100 / p.sum()[0]), color = 'white', weight = 'bold')\n\n",
      "execution_count": null,
      "outputs": [
        {
          "output_type": "display_data",
          "data": {
            "text/plain": "<matplotlib.figure.Figure at 0x7f7b97563630>",
            "image/png": "[encoded data removed]"
          },
          "metadata": {}
        }
      ]
    },
    {
      "metadata": {
        "_uuid": "dddad55f2699f3f4c02ae64a3e470c314e248643",
        "_cell_guid": "a7394a2b-8c79-40b8-b967-765d3ae0ad10"
      },
      "cell_type": "markdown",
      "source": "We can see that the rating tends to be relatively positive (>3). This may be due to the fact that unhappy customers tend to just leave instead of making efforts to rate. We can keep this in mind - low rating movies mean they are generally really bad"
    },
    {
      "metadata": {
        "_uuid": "bf7bd867b322b3e40c4eb1204d345029b4eb31b6",
        "_cell_guid": "581427e0-87df-46b1-a0af-7eb06932b1a3"
      },
      "cell_type": "markdown",
      "source": "## Data cleaning"
    },
    {
      "metadata": {
        "_uuid": "f232d44b5a8282bdcfbab54861bbd7990132e2c7",
        "_cell_guid": "3165defc-df86-49a8-ba51-6abb9fa253b1"
      },
      "cell_type": "markdown",
      "source": "Movie ID is really a mess import! Looping through dataframe to add Movie ID column WILL make the Kernel run out of memory as it is too inefficient. I achieve my task by first creating a numpy array with correct length then add the whole array as column into the main dataframe! Let's see how it is done below:"
    },
    {
      "metadata": {
        "collapsed": true,
        "_uuid": "498476341fad8d25d24090c07ea4b48299f9424a",
        "_cell_guid": "d06e0993-d5ff-4f75-87a7-7659f5427ebf",
        "trusted": true
      },
      "cell_type": "code",
      "source": "df_nan = pd.DataFrame(pd.isnull(df.Rating))\ndf_nan = df_nan[df_nan['Rating'] == True]\ndf_nan = df_nan.reset_index()\n\nmovie_np = []\nmovie_id = 1\n\nfor i,j in zip(df_nan['index'][1:],df_nan['index'][:-1]):\n    # numpy approach\n    temp = np.full((1,i-j-1), movie_id)\n    movie_np = np.append(movie_np, temp)\n    movie_id += 1\n\n# Account for last record and corresponding length\n# numpy approach\nlast_record = np.full((1,len(df) - df_nan.iloc[-1, 0] - 1),movie_id)\nmovie_np = np.append(movie_np, last_record)\n\nprint('Movie numpy: {}'.format(movie_np))\nprint('Length: {}'.format(len(movie_np)))",
      "execution_count": null,
      "outputs": []
    },
    {
      "metadata": {
        "collapsed": true,
        "_uuid": "73c7888f9cf7e1d0f705c6a14019d9371eaa9bf3",
        "_cell_guid": "e7da935d-a055-4ce6-9509-9c0439fda1de",
        "trusted": true
      },
      "cell_type": "code",
      "source": "# remove those Movie ID rows\ndf = df[pd.notnull(df['Rating'])]\n\ndf['Movie_Id'] = movie_np.astype(int)\ndf['Cust_Id'] = df['Cust_Id'].astype(int)\nprint('-Dataset examples-')\nprint(df.iloc[::5000000, :])\n",
      "execution_count": null,
      "outputs": []
    },
    {
      "metadata": {
        "_uuid": "7abf85f047576e1c8fe7742e28bd2a55d33c366c",
        "_cell_guid": "fd1a2d66-78b0-4191-8ca2-0caef60e91fa"
      },
      "cell_type": "markdown",
      "source": "## Data slicing"
    },
    {
      "metadata": {
        "_uuid": "b0107145609698c552ad9e74fd192cbbe93c4bb3",
        "_cell_guid": "6532819a-7b08-45c4-8b25-952568d7d465"
      },
      "cell_type": "markdown",
      "source": "The data set now is super huge. I have tried many different ways but can't get the Kernel running as intended without memory error. Therefore I tried to reduce the data volumn by improving the data quality below:\n\n* Remove movie with too less reviews (they are relatively not popular)\n* Remove customer who give too less reviews (they are relatively less active)\n\nHaving above benchmark will have significant improvement on efficiency, since those unpopular movies and non-active customers still occupy same volumn as those popular movies and active customers in the view of matrix (NaN still occupy space). This should help improve the statistical signifiance too.\n\nLet's see how it is implemented:"
    },
    {
      "metadata": {
        "collapsed": true,
        "_uuid": "b8987bf7e2cfcdc2a69fb767c4033d05240cc5a3",
        "_cell_guid": "1db45c46-ee82-4db5-be2c-919258c09d47",
        "trusted": true
      },
      "cell_type": "code",
      "source": "f = ['count','mean']\n\ndf_movie_summary = df.groupby('Movie_Id')['Rating'].agg(f)\ndf_movie_summary.index = df_movie_summary.index.map(int)\nmovie_benchmark = round(df_movie_summary['count'].quantile(0.8),0)\ndrop_movie_list = df_movie_summary[df_movie_summary['count'] < movie_benchmark].index\n\nprint('Movie minimum times of review: {}'.format(movie_benchmark))\n\ndf_cust_summary = df.groupby('Cust_Id')['Rating'].agg(f)\ndf_cust_summary.index = df_cust_summary.index.map(int)\ncust_benchmark = round(df_cust_summary['count'].quantile(0.8),0)\ndrop_cust_list = df_cust_summary[df_cust_summary['count'] < cust_benchmark].index\n\nprint('Customer minimum times of review: {}'.format(cust_benchmark))",
      "execution_count": null,
      "outputs": []
    },
    {
      "metadata": {
        "_uuid": "bc6022b8d87bfb7679984bcbd4b928a54ef19be8",
        "_cell_guid": "bebeaf19-b3a0-45d9-8a91-deaff2881d71"
      },
      "cell_type": "markdown",
      "source": "Now let's trim down our data, whats the difference in data size?"
    },
    {
      "metadata": {
        "collapsed": true,
        "_uuid": "f09c53f0e7b7fea039437c43e5163a5a59250b70",
        "_cell_guid": "61f85e6a-3438-456b-b169-f42c0270a752",
        "trusted": true
      },
      "cell_type": "code",
      "source": "print('Original Shape: {}'.format(df.shape))\ndf = df[~df['Movie_Id'].isin(drop_movie_list)]\ndf = df[~df['Cust_Id'].isin(drop_cust_list)]\nprint('After Trim Shape: {}'.format(df.shape))\nprint('-Data Examples-')\nprint(df.iloc[::5000000, :])",
      "execution_count": null,
      "outputs": []
    },
    {
      "metadata": {
        "_uuid": "ea0da55846a3795aead5d0365d5fcf91b03636ab",
        "_cell_guid": "7f10cc54-4021-4748-9f2f-933d541acee4"
      },
      "cell_type": "markdown",
      "source": "Let's pivot the data set and put it into a giant matrix - we need it for our recommendation system:"
    },
    {
      "metadata": {
        "collapsed": true,
        "_uuid": "528c8ecb8bbd94130e38e68362184087dcc39f83",
        "_cell_guid": "9e5a21fd-ccff-4fd3-aebe-cd82e5734ba9",
        "trusted": true
      },
      "cell_type": "code",
      "source": "df_p = pd.pivot_table(df,values='Rating',index='Cust_Id',columns='Movie_Id')\n\nprint(df_p.shape)\n\n# Below is another way I used to sparse the dataframe...doesn't seem to work better\n\n#Cust_Id_u = list(sorted(df['Cust_Id'].unique()))\n#Movie_Id_u = list(sorted(df['Movie_Id'].unique()))\n#data = df['Rating'].tolist()\n#row = df['Cust_Id'].astype('category', categories=Cust_Id_u).cat.codes\n#col = df['Movie_Id'].astype('category', categories=Movie_Id_u).cat.codes\n#sparse_matrix = csr_matrix((data, (row, col)), shape=(len(Cust_Id_u), len(Movie_Id_u)))\n#df_p = pd.DataFrame(sparse_matrix.todense(), index=Cust_Id_u, columns=Movie_Id_u)\n#df_p = df_p.replace(0, np.NaN)\n",
      "execution_count": null,
      "outputs": []
    },
    {
      "metadata": {
        "_uuid": "598d5c85304513168b871257f5c3bd810a7a8da4",
        "_cell_guid": "62ba3943-5369-4df9-b33e-3a5a8b47e9f9"
      },
      "cell_type": "markdown",
      "source": "## Data mapping"
    },
    {
      "metadata": {
        "_uuid": "ab718ba4d0e6b3b95d03c25b577884e88af77b93",
        "_cell_guid": "7768ffa2-e387-4b15-8ef1-c808229f4dc0"
      },
      "cell_type": "markdown",
      "source": "Now we load the movie mapping file:"
    },
    {
      "metadata": {
        "collapsed": true,
        "_uuid": "d971e5a1ccd038f9a08e126daeb8995d30f9e014",
        "_cell_guid": "cec6d42b-adff-49c0-939c-2f92adae15a4",
        "trusted": true
      },
      "cell_type": "code",
      "source": "df_title = pd.read_csv('../input/movie_titles.csv', encoding = \"ISO-8859-1\", header = None, names = ['Movie_Id', 'Year', 'Name'])\ndf_title.set_index('Movie_Id', inplace = True)\nprint (df_title.head(10))",
      "execution_count": null,
      "outputs": []
    },
    {
      "metadata": {
        "_uuid": "c6becd707a3c14a5c76887789e21e9fbf150e9f8",
        "_cell_guid": "c1b464a7-3c69-4acb-adcb-00d8b3ec9c93"
      },
      "cell_type": "markdown",
      "source": "# Recommendation models"
    },
    {
      "metadata": {
        "_uuid": "bd73e13a984d412908272360c701c15b58f412df",
        "_cell_guid": "a73d197f-1700-40ae-b20c-cab9b8e0c008"
      },
      "cell_type": "markdown",
      "source": "Well all data required is loaded and cleaned! Next let's get into the recommendation system."
    },
    {
      "metadata": {
        "_uuid": "523277beb220f90b2f7fb58dab680e22db2aa325",
        "_cell_guid": "fa6ad634-5c47-41e1-adeb-47fe2bd8f1b9"
      },
      "cell_type": "markdown",
      "source": "## Recommend with Collaborative Filtering"
    },
    {
      "metadata": {
        "_uuid": "5fb7d8cd461f7ab0b279acdfc135bfb3c302c3e8",
        "_cell_guid": "1ca487dc-253b-4a5e-ab00-516ee846306a"
      },
      "cell_type": "markdown",
      "source": "Evalute performance of [collaborative filtering](https://en.wikipedia.org/wiki/Collaborative_filtering), with just first 100K rows for faster process:"
    },
    {
      "metadata": {
        "scrolled": true,
        "collapsed": true,
        "_cell_guid": "fa414c7c-f908-40fa-bc99-9b221748c923",
        "_uuid": "a59aaac88ca121b93fcd8807e462dc7f0b609254",
        "trusted": true
      },
      "cell_type": "code",
      "source": "reader = Reader()\n\n# get just top 100K rows for faster run time\ndata = Dataset.load_from_df(df[['Cust_Id', 'Movie_Id', 'Rating']][:100000], reader)\ndata.split(n_folds=3)\n\nsvd = SVD()\nevaluate(svd, data, measures=['RMSE', 'MAE'])",
      "execution_count": null,
      "outputs": []
    },
    {
      "metadata": {
        "_uuid": "9c519e55ef4ae222556048f22bb55e4c8885d864",
        "_cell_guid": "c02b147f-b163-4a67-897e-881fbe2d69cd"
      },
      "cell_type": "markdown",
      "source": "Below is what user 783514 liked in the past:"
    },
    {
      "metadata": {
        "collapsed": true,
        "_uuid": "7b832da6358dc5ad2b3c4c2a60e73cacdfe0fe75",
        "_cell_guid": "dca8773e-5a63-4ac8-9691-77d6a50e1485",
        "trusted": true
      },
      "cell_type": "code",
      "source": "df_785314 = df[(df['Cust_Id'] == 785314) & (df['Rating'] == 5)]\ndf_785314 = df_785314.set_index('Movie_Id')\ndf_785314 = df_785314.join(df_title)['Name']\nprint(df_785314)\n",
      "execution_count": null,
      "outputs": []
    },
    {
      "metadata": {
        "_uuid": "c18f9856722f273498b9192e2b722077b9d86962",
        "_cell_guid": "fac49661-d5d9-4d1d-a3f5-110220f18b89"
      },
      "cell_type": "markdown",
      "source": "Let's predict which movies user 785314 would love to watch:"
    },
    {
      "metadata": {
        "collapsed": true,
        "_uuid": "6f47935958ad57c568fa58253a83452abe83fbed",
        "_cell_guid": "7da1d4f5-ef96-4f33-96ae-a66028f8926d",
        "trusted": true
      },
      "cell_type": "code",
      "source": "user_785314 = df_title.copy()\nuser_785314 = user_785314.reset_index()\nuser_785314 = user_785314[~user_785314['Movie_Id'].isin(drop_movie_list)]\n\n# getting full dataset\ndata = Dataset.load_from_df(df[['Cust_Id', 'Movie_Id', 'Rating']], reader)\n\ntrainset = data.build_full_trainset()\nsvd.train(trainset)\n\nuser_785314['Estimate_Score'] = user_785314['Movie_Id'].apply(lambda x: svd.predict(785314, x).est)\n\nuser_785314 = user_785314.drop('Movie_Id', axis = 1)\n\nuser_785314 = user_785314.sort_values('Estimate_Score', ascending=False)\nprint(user_785314.head(10))",
      "execution_count": null,
      "outputs": []
    },
    {
      "metadata": {
        "_uuid": "f24caa335865e13f5e0feb47bfb0b47996c69570",
        "_cell_guid": "25d88f52-36a2-4c62-bdc5-fee174b1aab7"
      },
      "cell_type": "markdown",
      "source": "## Recommend with Pearsons' R correlations"
    },
    {
      "metadata": {
        "_uuid": "4d4082f49c67f7406af44d9125ddab4c16ca967e",
        "_cell_guid": "d1220239-a049-4543-9ab6-89e1d00d6cdd"
      },
      "cell_type": "markdown",
      "source": "The way it works is we use Pearsons' R correlation to measure the linear correlation between review scores of all pairs of movies, then we provide the top 10 movies with highest correlations:"
    },
    {
      "metadata": {
        "collapsed": true,
        "_uuid": "531e21998a34956e35f3e0a839e18d528faa6709",
        "_cell_guid": "200cf4e8-59d6-459d-a0e5-5c9452bc8ad0",
        "trusted": true
      },
      "cell_type": "code",
      "source": "def recommend(movie_title, min_count):\n    print(\"For movie ({})\".format(movie_title))\n    print(\"- Top 10 movies recommended based on Pearsons'R correlation - \")\n    i = int(df_title.index[df_title['Name'] == movie_title][0])\n    target = df_p[i]\n    similar_to_target = df_p.corrwith(target)\n    corr_target = pd.DataFrame(similar_to_target, columns = ['PearsonR'])\n    corr_target.dropna(inplace = True)\n    corr_target = corr_target.sort_values('PearsonR', ascending = False)\n    corr_target.index = corr_target.index.map(int)\n    corr_target = corr_target.join(df_title).join(df_movie_summary)[['PearsonR', 'Name', 'count', 'mean']]\n    print(corr_target[corr_target['count']>min_count][:10].to_string(index=False))",
      "execution_count": null,
      "outputs": []
    },
    {
      "metadata": {
        "_uuid": "e7b9374a3c6bcd9d890f1a1462d6d4f2cb55dad5",
        "_cell_guid": "c06b5afa-cf47-4853-a712-ee0afe60b994"
      },
      "cell_type": "markdown",
      "source": "A recommendation for you if you like 'What the #$*! Do We Know!?'"
    },
    {
      "metadata": {
        "collapsed": true,
        "_uuid": "903cb1f6529d9d93deb557b5ac7eeba4b42d8a53",
        "_cell_guid": "9691bc55-4bde-4580-ae43-f9698e46ab81",
        "trusted": true
      },
      "cell_type": "code",
      "source": "recommend(\"What the #$*! Do We Know!?\", 0)",
      "execution_count": null,
      "outputs": []
    },
    {
      "metadata": {
        "_uuid": "3646da79d856c2895001832bedb3bf5236a84166",
        "_cell_guid": "c4f1cfbe-0c57-46b5-97d4-1f9466862802"
      },
      "cell_type": "markdown",
      "source": "X2: X-Men United:"
    },
    {
      "metadata": {
        "collapsed": true,
        "_uuid": "8586765d4b658bea95997f4418b7ae14c2c6be3d",
        "_cell_guid": "9fc24be5-1037-4208-b1ca-07e2e9f8c4a7",
        "trusted": true
      },
      "cell_type": "code",
      "source": "recommend(\"X2: X-Men United\", 0)",
      "execution_count": null,
      "outputs": []
    },
    {
      "metadata": {
        "_uuid": "08abd9eabd6c0999751f5cab879e9976517e61d8",
        "_cell_guid": "e9ba141d-cec5-4104-935e-f0492ce099df"
      },
      "cell_type": "markdown",
      "source": "# ct https://www.kaggle.com/laowingkin/netflix-movie-recommendation I was trying to replicate it by using a bigger dataset"
    },
    {
      "metadata": {
        "_uuid": "4a4d083e270b700fd0a54c93009621e9f2f28a55"
      },
      "cell_type": "markdown",
      "source": "**Recommend with Surprise!**"
    },
    {
      "metadata": {
        "trusted": true,
        "collapsed": true,
        "_uuid": "1fdbbd9e6740c783503dbb8fb7a768f3a6a179bd"
      },
      "cell_type": "code",
      "source": "from surprise import KNNBasic\nfrom surprise import KNNWithMeans\nfrom surprise import KNNBaseline",
      "execution_count": null,
      "outputs": []
    },
    {
      "metadata": {
        "trusted": true,
        "collapsed": true,
        "_uuid": "0a304e841417eb055cc7d0dfb3cb5014c68d8a4b"
      },
      "cell_type": "code",
      "source": "from surprise import prediction_algorithms",
      "execution_count": null,
      "outputs": []
    },
    {
      "metadata": {
        "trusted": true,
        "collapsed": true,
        "_uuid": "97267e45e2600fa8ca929c294a69b856b90820c0"
      },
      "cell_type": "code",
      "source": "#i am not sure how to use this",
      "execution_count": null,
      "outputs": []
    }
  ],
  "metadata": {
    "language_info": {
      "name": "python",
      "version": "3.6.4",
      "mimetype": "text/x-python",
      "codemirror_mode": {
        "name": "ipython",
        "version": 3
      },
      "pygments_lexer": "ipython3",
      "nbconvert_exporter": "python",
      "file_extension": ".py"
    },
    "kernelspec": {
      "display_name": "Python 3",
      "language": "python",
      "name": "python3"
    }
  },
  "nbformat": 4,
  "nbformat_minor": 1
}